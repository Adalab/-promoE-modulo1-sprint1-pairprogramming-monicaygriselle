{
 "cells": [
  {
   "cell_type": "code",
   "execution_count": 17,
   "metadata": {},
   "outputs": [
    {
     "name": "stdout",
     "output_type": "stream",
     "text": [
      "True\n",
      "False\n",
      "False\n",
      "True\n"
     ]
    }
   ],
   "source": [
    "numero1 = 27\n",
    "numero2 = 14\n",
    "numero3 = 7\n",
    "\n",
    "print(numero1 > numero2)\n",
    "print( numero3 < numero1 < numero2 )\n",
    "print(numero3 == numero2)\n",
    "print(numero2 != numero1)"
   ]
  },
  {
   "cell_type": "code",
   "execution_count": 18,
   "metadata": {},
   "outputs": [
    {
     "name": "stdout",
     "output_type": "stream",
     "text": [
      "24.2\n",
      "12.8\n",
      "1.3999999999999995\n",
      "1.9\n"
     ]
    }
   ],
   "source": [
    "altura1 = 18.5\n",
    "altura2 = 5.7\n",
    "\n",
    "print(altura1 + altura2)\n",
    "print(altura1 - altura2)\n",
    "print(altura1 % altura2)\n",
    "print(round(numero1 / numero2, 1))"
   ]
  },
  {
   "cell_type": "code",
   "execution_count": 19,
   "metadata": {},
   "outputs": [
    {
     "name": "stdout",
     "output_type": "stream",
     "text": [
      "Tu nombre en mayúsculas es MÓNICA SERRANO LORENZO\n",
      "Tu nombre en minúscula es mónica serrano lorenzo\n",
      "Tu nombre con la primera en mayúscula es Mónica Serrano lorenzo\n",
      "Tu nombre con solo la primera letra del nombre en mayúscula es Mónica serrano lorenzo\n"
     ]
    }
   ],
   "source": [
    "nombre = input(\"Escriba su nombre\")\n",
    "apellidos = input(\"Escriba sus apellidos\")\n",
    "\n",
    "nombremayus = nombre.upper()\n",
    "apellidosmayus = apellidos.upper()\n",
    "print(\"Tu nombre en mayúsculas es\", nombremayus, apellidosmayus)\n",
    "\n",
    "nombreminus = nombre.lower()\n",
    "apellidosminus = apellidos.lower()\n",
    "print(\"Tu nombre en minúscula es\", nombreminus, apellidosminus)\n",
    "\n",
    "nombrecap = nombre.capitalize()\n",
    "apellidoscap = apellidos.capitalize()\n",
    "print(\"Tu nombre con la primera en mayúscula es\", nombrecap, apellidoscap)\n",
    "\n",
    "print(\"Tu nombre con solo la primera letra del nombre en mayúscula es\", nombrecap, apellidosminus)"
   ]
  },
  {
   "cell_type": "code",
   "execution_count": 23,
   "metadata": {},
   "outputs": [
    {
     "name": "stdout",
     "output_type": "stream",
     "text": [
      "Tu frase es hola y tu vocal en mayúsucula es A\n"
     ]
    }
   ],
   "source": [
    "frase = input(\"Escribe una frase\")\n",
    "\n",
    "vocal = input(\"Escribe una vocal\")\n",
    "\n",
    "vocal = vocal.replace(vocal, vocal.upper())\n",
    "\n",
    "print(\"Tu frase es\", frase, \"y tu vocal en mayúsucula es\", vocal)\n"
   ]
  },
  {
   "cell_type": "code",
   "execution_count": 15,
   "metadata": {},
   "outputs": [],
   "source": [
    "listacompra = input(\"Introduce tu lista de la compra\")\n",
    "print(listacompra)"
   ]
  }
 ],
 "metadata": {
  "kernelspec": {
   "display_name": "base",
   "language": "python",
   "name": "python3"
  },
  "language_info": {
   "codemirror_mode": {
    "name": "ipython",
    "version": 3
   },
   "file_extension": ".py",
   "mimetype": "text/x-python",
   "name": "python",
   "nbconvert_exporter": "python",
   "pygments_lexer": "ipython3",
   "version": "3.9.7"
  },
  "orig_nbformat": 4
 },
 "nbformat": 4,
 "nbformat_minor": 2
}
